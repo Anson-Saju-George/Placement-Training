{
 "cells": [
  {
   "cell_type": "markdown",
   "id": "02cd8951",
   "metadata": {},
   "source": [
    "# LCM of 30 and 45 (Using Prime Factorization)\n",
    "\n",
    "## Step 1: Prime Factorization\n",
    "\n",
    "- **30 =** \\(2 X 3 X 5\\)\n",
    "- **45 =** \\(3^2 X 5\\)\n",
    "\n",
    "## Step 2: Take the highest power of each prime factor\n",
    "\n",
    "| Prime | In 30    | In 45    | Take Highest Power |\n",
    "|-------|----------|----------|--------------------|\n",
    "| 2     | \\(2^1\\)  | —        | \\(2^1\\)            |\n",
    "| 3     | \\(3^1\\)  | \\(3^2\\)  | \\(3^2\\)            |\n",
    "| 5     | \\(5^1\\)  | \\(5^1\\)  | \\(5^1\\)            |\n",
    "\n",
    "## Step 3: Multiply the chosen powers\n",
    "\n",
    "|LCM = 2^1 X 3^2 X 5^1 = 2 X 9 X 5 = 90|\n",
    "|----------------------------------------|\n",
    "\n",
    "## Final Answer:\n",
    "\n",
    "\n",
    "|LCM(30, 45) = 90|\n",
    "|-------------------------|\n"
   ]
  },
  {
   "cell_type": "code",
   "execution_count": null,
   "id": "faf758ea",
   "metadata": {
    "vscode": {
     "languageId": "plaintext"
    }
   },
   "outputs": [],
   "source": []
  },
  {
   "cell_type": "markdown",
   "id": "b4f05561",
   "metadata": {},
   "source": [
    "# HCF / GCD of 30 and 45 (Using Prime Factorization)\n",
    "\n",
    "## Step 1: Prime Factorization\n",
    "\n",
    "- **30 =** \\(2 X 3 X 5\\)\n",
    "- **45 =** \\(3^2 X 5\\)\n",
    "\n",
    "## Step 2: Take the *lowest power* of each prime factor common to both numbers\n",
    "\n",
    "| Prime | In 30    | In 45    | Take Lowest Power |\n",
    "|-------|----------|----------|-------------------|\n",
    "| 3     | \\(3^1\\)  | \\(3^2\\)  | \\(3^1\\)           |\n",
    "| 5     | \\(5^1\\)  | \\(5^1\\)  | \\(5^1\\)           |\n",
    "\n",
    "> Note: 2 is not common to both, so ignore.\n",
    "\n",
    "## Step 3: Multiply the chosen powers\n",
    "\n",
    "|HCF = 3^1 X 5^1 = 3 X 5 = 15|\n",
    "|-------------------------|\n",
    "\n",
    "## Final Answer:\n",
    "\n",
    "|HCF(30, 45) = 15|\n",
    "|-------------------------|"
   ]
  }
 ],
 "metadata": {
  "language_info": {
   "name": "python"
  }
 },
 "nbformat": 4,
 "nbformat_minor": 5
}
